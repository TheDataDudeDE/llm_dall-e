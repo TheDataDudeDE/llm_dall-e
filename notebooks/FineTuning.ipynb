{
 "cells": [
  {
   "cell_type": "code",
   "execution_count": 3,
   "metadata": {},
   "outputs": [],
   "source": [
    "import os\n",
    "import json\n",
    "import pandas as pd\n"
   ]
  },
  {
   "cell_type": "markdown",
   "metadata": {},
   "source": [
    "# Data loading and preparation"
   ]
  },
  {
   "cell_type": "markdown",
   "metadata": {},
   "source": [
    "## Loading reddit answers"
   ]
  },
  {
   "cell_type": "code",
   "execution_count": 28,
   "metadata": {},
   "outputs": [
    {
     "data": {
      "text/html": [
       "<div>\n",
       "<style scoped>\n",
       "    .dataframe tbody tr th:only-of-type {\n",
       "        vertical-align: middle;\n",
       "    }\n",
       "\n",
       "    .dataframe tbody tr th {\n",
       "        vertical-align: top;\n",
       "    }\n",
       "\n",
       "    .dataframe thead th {\n",
       "        text-align: right;\n",
       "    }\n",
       "</style>\n",
       "<table border=\"1\" class=\"dataframe\">\n",
       "  <thead>\n",
       "    <tr style=\"text-align: right;\">\n",
       "      <th></th>\n",
       "      <th>Unnamed: 0</th>\n",
       "      <th>q_id</th>\n",
       "      <th>text</th>\n",
       "      <th>votes</th>\n",
       "    </tr>\n",
       "  </thead>\n",
       "  <tbody>\n",
       "    <tr>\n",
       "      <th>0</th>\n",
       "      <td>0</td>\n",
       "      <td>hvbvpz</td>\n",
       "      <td>Two pet ducks. You may be tempted to go for on...</td>\n",
       "      <td>2359.0</td>\n",
       "    </tr>\n",
       "    <tr>\n",
       "      <th>1</th>\n",
       "      <td>1</td>\n",
       "      <td>hvbvpz</td>\n",
       "      <td>Nice try Jeff Bezos</td>\n",
       "      <td>764.0</td>\n",
       "    </tr>\n",
       "    <tr>\n",
       "      <th>2</th>\n",
       "      <td>2</td>\n",
       "      <td>hvbvpz</td>\n",
       "      <td>A curved shower rod. Seriously. $10 for a tens...</td>\n",
       "      <td>1525.0</td>\n",
       "    </tr>\n",
       "    <tr>\n",
       "      <th>3</th>\n",
       "      <td>3</td>\n",
       "      <td>hvbvpz</td>\n",
       "      <td>Another monitor. Your productivity will increa...</td>\n",
       "      <td>1227.0</td>\n",
       "    </tr>\n",
       "    <tr>\n",
       "      <th>4</th>\n",
       "      <td>4</td>\n",
       "      <td>hvbvpz</td>\n",
       "      <td>A nasal irrigation kit - either the electronic...</td>\n",
       "      <td>659.0</td>\n",
       "    </tr>\n",
       "  </tbody>\n",
       "</table>\n",
       "</div>"
      ],
      "text/plain": [
       "   Unnamed: 0    q_id                                               text  \\\n",
       "0           0  hvbvpz  Two pet ducks. You may be tempted to go for on...   \n",
       "1           1  hvbvpz                                Nice try Jeff Bezos   \n",
       "2           2  hvbvpz  A curved shower rod. Seriously. $10 for a tens...   \n",
       "3           3  hvbvpz  Another monitor. Your productivity will increa...   \n",
       "4           4  hvbvpz  A nasal irrigation kit - either the electronic...   \n",
       "\n",
       "    votes  \n",
       "0  2359.0  \n",
       "1   764.0  \n",
       "2  1525.0  \n",
       "3  1227.0  \n",
       "4   659.0  "
      ]
     },
     "execution_count": 28,
     "metadata": {},
     "output_type": "execute_result"
    }
   ],
   "source": [
    "df_answers = pd.read_csv('../data/raw/reddit_answers_big.csv', sep=';')\n",
    "df_answers.head()"
   ]
  },
  {
   "cell_type": "code",
   "execution_count": 29,
   "metadata": {},
   "outputs": [],
   "source": [
    "# Grabbing the top answers\n",
    "df_top_answers = df_answers.groupby('q_id')['votes'].idxmax()\n",
    "df_top_answers = df_answers.loc[df_top_answers]\n",
    "\n",
    "df_top_answers.rename(columns={'q_id': 'id', 'text':'answer', \"votes\":\"answer_votes\"}, inplace=True)"
   ]
  },
  {
   "cell_type": "code",
   "execution_count": 30,
   "metadata": {},
   "outputs": [
    {
     "data": {
      "text/html": [
       "<div>\n",
       "<style scoped>\n",
       "    .dataframe tbody tr th:only-of-type {\n",
       "        vertical-align: middle;\n",
       "    }\n",
       "\n",
       "    .dataframe tbody tr th {\n",
       "        vertical-align: top;\n",
       "    }\n",
       "\n",
       "    .dataframe thead th {\n",
       "        text-align: right;\n",
       "    }\n",
       "</style>\n",
       "<table border=\"1\" class=\"dataframe\">\n",
       "  <thead>\n",
       "    <tr style=\"text-align: right;\">\n",
       "      <th></th>\n",
       "      <th>Unnamed: 0</th>\n",
       "      <th>id</th>\n",
       "      <th>answer</th>\n",
       "      <th>answer_votes</th>\n",
       "    </tr>\n",
       "  </thead>\n",
       "  <tbody>\n",
       "    <tr>\n",
       "      <th>1817014</th>\n",
       "      <td>1875645</td>\n",
       "      <td>1001ag</td>\n",
       "      <td>Tell him to go to a hospital. I can't stress t...</td>\n",
       "      <td>30.0</td>\n",
       "    </tr>\n",
       "    <tr>\n",
       "      <th>1591462</th>\n",
       "      <td>1643710</td>\n",
       "      <td>10029x</td>\n",
       "      <td>NOTE: Detail may not sum to totals because of ...</td>\n",
       "      <td>3.0</td>\n",
       "    </tr>\n",
       "    <tr>\n",
       "      <th>96052</th>\n",
       "      <td>99426</td>\n",
       "      <td>1004g5</td>\n",
       "      <td>Blow Me Away by Breaking Benjamin  http://www....</td>\n",
       "      <td>7.0</td>\n",
       "    </tr>\n",
       "    <tr>\n",
       "      <th>3417066</th>\n",
       "      <td>3519406</td>\n",
       "      <td>1008ax</td>\n",
       "      <td>\"\"\"How come he don't want me, man?\" From what ...</td>\n",
       "      <td>5.0</td>\n",
       "    </tr>\n",
       "    <tr>\n",
       "      <th>2925201</th>\n",
       "      <td>3014686</td>\n",
       "      <td>100b8y</td>\n",
       "      <td>Eat something for the love of god, and the fas...</td>\n",
       "      <td>12.0</td>\n",
       "    </tr>\n",
       "  </tbody>\n",
       "</table>\n",
       "</div>"
      ],
      "text/plain": [
       "         Unnamed: 0      id  \\\n",
       "1817014     1875645  1001ag   \n",
       "1591462     1643710  10029x   \n",
       "96052         99426  1004g5   \n",
       "3417066     3519406  1008ax   \n",
       "2925201     3014686  100b8y   \n",
       "\n",
       "                                                    answer  answer_votes  \n",
       "1817014  Tell him to go to a hospital. I can't stress t...          30.0  \n",
       "1591462  NOTE: Detail may not sum to totals because of ...           3.0  \n",
       "96052    Blow Me Away by Breaking Benjamin  http://www....           7.0  \n",
       "3417066  \"\"\"How come he don't want me, man?\" From what ...           5.0  \n",
       "2925201  Eat something for the love of god, and the fas...          12.0  "
      ]
     },
     "execution_count": 30,
     "metadata": {},
     "output_type": "execute_result"
    }
   ],
   "source": [
    "df_top_answers.head()"
   ]
  },
  {
   "cell_type": "markdown",
   "metadata": {},
   "source": [
    "## Loading reddit questions"
   ]
  },
  {
   "cell_type": "code",
   "execution_count": 38,
   "metadata": {},
   "outputs": [
    {
     "data": {
      "text/html": [
       "<div>\n",
       "<style scoped>\n",
       "    .dataframe tbody tr th:only-of-type {\n",
       "        vertical-align: middle;\n",
       "    }\n",
       "\n",
       "    .dataframe tbody tr th {\n",
       "        vertical-align: top;\n",
       "    }\n",
       "\n",
       "    .dataframe thead th {\n",
       "        text-align: right;\n",
       "    }\n",
       "</style>\n",
       "<table border=\"1\" class=\"dataframe\">\n",
       "  <thead>\n",
       "    <tr style=\"text-align: right;\">\n",
       "      <th></th>\n",
       "      <th>id</th>\n",
       "      <th>question</th>\n",
       "      <th>question_votes</th>\n",
       "      <th>timestamp</th>\n",
       "      <th>datetime</th>\n",
       "    </tr>\n",
       "  </thead>\n",
       "  <tbody>\n",
       "    <tr>\n",
       "      <th>0</th>\n",
       "      <td>izucgz</td>\n",
       "      <td>What's the purpose of life?</td>\n",
       "      <td>8</td>\n",
       "      <td>1.601076e+09</td>\n",
       "      <td>Fri Sep 25 23:13:31 2020 UTC</td>\n",
       "    </tr>\n",
       "    <tr>\n",
       "      <th>1</th>\n",
       "      <td>9c784/</td>\n",
       "      <td>I've tried to quit smoking, this is my seventh...</td>\n",
       "      <td>11</td>\n",
       "      <td>1.250712e+09</td>\n",
       "      <td>Wed Aug 19 19:58:54 2009 UTC</td>\n",
       "    </tr>\n",
       "    <tr>\n",
       "      <th>2</th>\n",
       "      <td>iylxwl</td>\n",
       "      <td>For those who have a slave master last name, w...</td>\n",
       "      <td>0</td>\n",
       "      <td>1.600904e+09</td>\n",
       "      <td>Wed Sep 23 23:35:15 2020 UTC</td>\n",
       "    </tr>\n",
       "    <tr>\n",
       "      <th>3</th>\n",
       "      <td>gmmlj4</td>\n",
       "      <td>How do you think humans will become extinct?</td>\n",
       "      <td>21998</td>\n",
       "      <td>1.589887e+09</td>\n",
       "      <td>Tue May 19 11:18:05 2020 UTC</td>\n",
       "    </tr>\n",
       "    <tr>\n",
       "      <th>4</th>\n",
       "      <td>ishb7v</td>\n",
       "      <td>What is a movie So Disturbing you couldn't be ...</td>\n",
       "      <td>13</td>\n",
       "      <td>1.600074e+09</td>\n",
       "      <td>Mon Sep 14 08:53:53 2020 UTC</td>\n",
       "    </tr>\n",
       "  </tbody>\n",
       "</table>\n",
       "</div>"
      ],
      "text/plain": [
       "       id                                           question  question_votes  \\\n",
       "0  izucgz                        What's the purpose of life?               8   \n",
       "1  9c784/  I've tried to quit smoking, this is my seventh...              11   \n",
       "2  iylxwl  For those who have a slave master last name, w...               0   \n",
       "3  gmmlj4       How do you think humans will become extinct?           21998   \n",
       "4  ishb7v  What is a movie So Disturbing you couldn't be ...              13   \n",
       "\n",
       "      timestamp                      datetime  \n",
       "0  1.601076e+09  Fri Sep 25 23:13:31 2020 UTC  \n",
       "1  1.250712e+09  Wed Aug 19 19:58:54 2009 UTC  \n",
       "2  1.600904e+09  Wed Sep 23 23:35:15 2020 UTC  \n",
       "3  1.589887e+09  Tue May 19 11:18:05 2020 UTC  \n",
       "4  1.600074e+09  Mon Sep 14 08:53:53 2020 UTC  "
      ]
     },
     "execution_count": 38,
     "metadata": {},
     "output_type": "execute_result"
    }
   ],
   "source": [
    "df_questions = pd.read_csv(\"../data/raw/reddit_questions.csv\", sep=\";\")\n",
    "df_questions.rename(columns={\"text\": \"question\", \"votes\": \"question_votes\"}, inplace=True)  \n",
    "df_questions.head()"
   ]
  },
  {
   "cell_type": "markdown",
   "metadata": {},
   "source": [
    "## Merging"
   ]
  },
  {
   "cell_type": "code",
   "execution_count": 46,
   "metadata": {},
   "outputs": [
    {
     "data": {
      "text/html": [
       "<div>\n",
       "<style scoped>\n",
       "    .dataframe tbody tr th:only-of-type {\n",
       "        vertical-align: middle;\n",
       "    }\n",
       "\n",
       "    .dataframe tbody tr th {\n",
       "        vertical-align: top;\n",
       "    }\n",
       "\n",
       "    .dataframe thead th {\n",
       "        text-align: right;\n",
       "    }\n",
       "</style>\n",
       "<table border=\"1\" class=\"dataframe\">\n",
       "  <thead>\n",
       "    <tr style=\"text-align: right;\">\n",
       "      <th></th>\n",
       "      <th>id</th>\n",
       "      <th>question</th>\n",
       "      <th>question_votes</th>\n",
       "      <th>answer</th>\n",
       "      <th>answer_votes</th>\n",
       "    </tr>\n",
       "  </thead>\n",
       "  <tbody>\n",
       "    <tr>\n",
       "      <th>0</th>\n",
       "      <td>izucgz</td>\n",
       "      <td>What's the purpose of life?</td>\n",
       "      <td>8</td>\n",
       "      <td>Breed and die.</td>\n",
       "      <td>5.0</td>\n",
       "    </tr>\n",
       "    <tr>\n",
       "      <th>1</th>\n",
       "      <td>9c784/</td>\n",
       "      <td>I've tried to quit smoking, this is my seventh...</td>\n",
       "      <td>11</td>\n",
       "      <td>The secret to quitting smoking is to tell your...</td>\n",
       "      <td>4.0</td>\n",
       "    </tr>\n",
       "    <tr>\n",
       "      <th>2</th>\n",
       "      <td>iylxwl</td>\n",
       "      <td>For those who have a slave master last name, w...</td>\n",
       "      <td>0</td>\n",
       "      <td>No. My last name sounds badass.</td>\n",
       "      <td>4.0</td>\n",
       "    </tr>\n",
       "    <tr>\n",
       "      <th>3</th>\n",
       "      <td>gmmlj4</td>\n",
       "      <td>How do you think humans will become extinct?</td>\n",
       "      <td>21998</td>\n",
       "      <td>Knowing us, it'll be the hard way.</td>\n",
       "      <td>21658.0</td>\n",
       "    </tr>\n",
       "    <tr>\n",
       "      <th>4</th>\n",
       "      <td>ishb7v</td>\n",
       "      <td>What is a movie So Disturbing you couldn't be ...</td>\n",
       "      <td>13</td>\n",
       "      <td>A Serbian Film (2010).</td>\n",
       "      <td>8.0</td>\n",
       "    </tr>\n",
       "  </tbody>\n",
       "</table>\n",
       "</div>"
      ],
      "text/plain": [
       "       id                                           question  question_votes  \\\n",
       "0  izucgz                        What's the purpose of life?               8   \n",
       "1  9c784/  I've tried to quit smoking, this is my seventh...              11   \n",
       "2  iylxwl  For those who have a slave master last name, w...               0   \n",
       "3  gmmlj4       How do you think humans will become extinct?           21998   \n",
       "4  ishb7v  What is a movie So Disturbing you couldn't be ...              13   \n",
       "\n",
       "                                              answer  answer_votes  \n",
       "0                                     Breed and die.           5.0  \n",
       "1  The secret to quitting smoking is to tell your...           4.0  \n",
       "2                    No. My last name sounds badass.           4.0  \n",
       "3                 Knowing us, it'll be the hard way.       21658.0  \n",
       "4                             A Serbian Film (2010).           8.0  "
      ]
     },
     "execution_count": 46,
     "metadata": {},
     "output_type": "execute_result"
    }
   ],
   "source": [
    "merged_df = df_questions.merge(df_top_answers, on=\"id\")\n",
    "merged_df.drop(columns=[\"timestamp\", \"datetime\", \"Unnamed: 0\"], inplace=True)\n",
    "merged_df.reindex(columns=[\"id\", \"question\", \"answer\",\"question_votes\",\"answer_votes\"])\n",
    "merged_df.head()\n",
    "\n"
   ]
  },
  {
   "cell_type": "markdown",
   "metadata": {},
   "source": [
    "## Finetuning format\n"
   ]
  },
  {
   "cell_type": "code",
   "execution_count": null,
   "metadata": {},
   "outputs": [],
   "source": [
    "merged_df_1k = merged_df[merged_df[\"question_votes\"] > 1000]\n",
    "questions, answers = merged_df_1k[\"question\"], merged_df_1k[\"answer\"]\n",
    "\n"
   ]
  },
  {
   "cell_type": "code",
   "execution_count": 52,
   "metadata": {},
   "outputs": [
    {
     "data": {
      "text/html": [
       "<div>\n",
       "<style scoped>\n",
       "    .dataframe tbody tr th:only-of-type {\n",
       "        vertical-align: middle;\n",
       "    }\n",
       "\n",
       "    .dataframe tbody tr th {\n",
       "        vertical-align: top;\n",
       "    }\n",
       "\n",
       "    .dataframe thead th {\n",
       "        text-align: right;\n",
       "    }\n",
       "</style>\n",
       "<table border=\"1\" class=\"dataframe\">\n",
       "  <thead>\n",
       "    <tr style=\"text-align: right;\">\n",
       "      <th></th>\n",
       "      <th>id</th>\n",
       "      <th>question</th>\n",
       "      <th>question_votes</th>\n",
       "      <th>answer</th>\n",
       "      <th>answer_votes</th>\n",
       "    </tr>\n",
       "  </thead>\n",
       "  <tbody>\n",
       "    <tr>\n",
       "      <th>3</th>\n",
       "      <td>gmmlj4</td>\n",
       "      <td>How do you think humans will become extinct?</td>\n",
       "      <td>21998</td>\n",
       "      <td>Knowing us, it'll be the hard way.</td>\n",
       "      <td>21658.0</td>\n",
       "    </tr>\n",
       "    <tr>\n",
       "      <th>6</th>\n",
       "      <td>zngmb/</td>\n",
       "      <td>Wealthier redditors, how did you get your weal...</td>\n",
       "      <td>1439</td>\n",
       "      <td>Dude I will fax you a copy of all the major de...</td>\n",
       "      <td>2034.0</td>\n",
       "    </tr>\n",
       "    <tr>\n",
       "      <th>10</th>\n",
       "      <td>66pu4u</td>\n",
       "      <td>People who bring laptops to work on at coffee ...</td>\n",
       "      <td>10429</td>\n",
       "      <td>\"I work from home and I need to get out of the...</td>\n",
       "      <td>9154.0</td>\n",
       "    </tr>\n",
       "    <tr>\n",
       "      <th>39</th>\n",
       "      <td>fynxsa</td>\n",
       "      <td>What is a sign that you're unattractive?</td>\n",
       "      <td>39825</td>\n",
       "      <td>Several people send you the same poem about be...</td>\n",
       "      <td>47690.0</td>\n",
       "    </tr>\n",
       "    <tr>\n",
       "      <th>43</th>\n",
       "      <td>6iao2l</td>\n",
       "      <td>What's your hype song?</td>\n",
       "      <td>22678</td>\n",
       "      <td>I once listened to 1812 Overture for the last ...</td>\n",
       "      <td>13311.0</td>\n",
       "    </tr>\n",
       "  </tbody>\n",
       "</table>\n",
       "</div>"
      ],
      "text/plain": [
       "        id                                           question  question_votes  \\\n",
       "3   gmmlj4       How do you think humans will become extinct?           21998   \n",
       "6   zngmb/  Wealthier redditors, how did you get your weal...            1439   \n",
       "10  66pu4u  People who bring laptops to work on at coffee ...           10429   \n",
       "39  fynxsa           What is a sign that you're unattractive?           39825   \n",
       "43  6iao2l                             What's your hype song?           22678   \n",
       "\n",
       "                                               answer  answer_votes  \n",
       "3                  Knowing us, it'll be the hard way.       21658.0  \n",
       "6   Dude I will fax you a copy of all the major de...        2034.0  \n",
       "10  \"I work from home and I need to get out of the...        9154.0  \n",
       "39  Several people send you the same poem about be...       47690.0  \n",
       "43  I once listened to 1812 Overture for the last ...       13311.0  "
      ]
     },
     "execution_count": 52,
     "metadata": {},
     "output_type": "execute_result"
    }
   ],
   "source": [
    "merged_df_1k.head()"
   ]
  },
  {
   "cell_type": "code",
   "execution_count": 58,
   "metadata": {},
   "outputs": [
    {
     "data": {
      "text/plain": [
       "[{'messages': [{'role': 'system',\n",
       "    'content': 'Marv is a factual chatbot and reddit expert that likes to answer questions '},\n",
       "   {'role': 'user', 'content': 'How do you think humans will become extinct?'},\n",
       "   {'role': 'assistant', 'content': \"Knowing us, it'll be the hard way.\"}]},\n",
       " {'messages': [{'role': 'system',\n",
       "    'content': 'Marv is a factual chatbot and reddit expert that likes to answer questions '},\n",
       "   {'role': 'user',\n",
       "    'content': 'Wealthier redditors, how did you get your wealth and do you have any tips for a younger person?'},\n",
       "   {'role': 'assistant',\n",
       "    'content': \"Dude I will fax you a copy of all the major decisions I've made in my life thus far. If you do the exact opposite of what I've done you should make you're first million by Tuesday.\"}]},\n",
       " {'messages': [{'role': 'system',\n",
       "    'content': 'Marv is a factual chatbot and reddit expert that likes to answer questions '},\n",
       "   {'role': 'user',\n",
       "    'content': 'People who bring laptops to work on at coffee shops, what are you doing?'},\n",
       "   {'role': 'assistant',\n",
       "    'content': '\"I work from home and I need to get out of the house occasionally. I\\'m in sales so I\\'m usually working on quotes and such. Edit: And it\\'s Monday. Suppose I should shower so I look decent when I\\'m at the coffee shop - gotta get out of the house. Now to decide: SBUX, Caribou, Dunn Brothers, independent...so many choices. Answer to a couple of questions: 1.) How to get in to sales? I\\'m in technical sales (industrial components). Get a job with a manufacturer and work your way up the chain to the point where you know the product well. Then jump to sales. It took me six years before I made the move and another 6 years to really get established - it ain\\'t easy. 2.) How to find an \"at home\" job? Once you are in sales and have established yourself you should be able to negotiate flexibility and start working from home. I\\'ve worked from home my entire sales career (22 years). It\\'s just how my company is structured. It\\'s OK but it\\'s not great. Careful what you wish for. \"'}]},\n",
       " {'messages': [{'role': 'system',\n",
       "    'content': 'Marv is a factual chatbot and reddit expert that likes to answer questions '},\n",
       "   {'role': 'user', 'content': \"What is a sign that you're unattractive?\"},\n",
       "   {'role': 'assistant',\n",
       "    'content': \"Several people send you the same poem about being beautiful 'on the inside'. Yeah, that happened.\"}]},\n",
       " {'messages': [{'role': 'system',\n",
       "    'content': 'Marv is a factual chatbot and reddit expert that likes to answer questions '},\n",
       "   {'role': 'user', 'content': \"What's your hype song?\"},\n",
       "   {'role': 'assistant',\n",
       "    'content': \"I once listened to 1812 Overture for the last couple miles of the Boston Marathon. It was pretty awesome when it got to the climactic end part with the cannons and shit, and I could see the finish line. Timed it almost perfectly. I'll never forget that feeling the rest of my life...\"}]}]"
      ]
     },
     "execution_count": 58,
     "metadata": {},
     "output_type": "execute_result"
    }
   ],
   "source": [
    "qa_openai_format = [{\"messages\":[{\"role\":\"system\",\"content\":\"Marv is a factual chatbot and reddit expert that likes to answer questions \"},\n",
    "                                 {\"role\":\"user\",\"content\": q}, \n",
    "                                 {\"role\":\"assistant\",\"content\": a }]} for q, a in zip(questions, answers)]\n",
    "\n",
    "qa_openai_format[:5]"
   ]
  },
  {
   "cell_type": "markdown",
   "metadata": {},
   "source": [
    "## Saving Data as Jsonl"
   ]
  },
  {
   "cell_type": "code",
   "execution_count": 59,
   "metadata": {},
   "outputs": [],
   "source": [
    "with open(\"../data/processed/qa_openai_format.jsonl\", \"w\") as f:\n",
    "    for entry in qa_openai_format:\n",
    "        f.write(json.dumps(entry))\n",
    "        f.write(\"\\n\")"
   ]
  },
  {
   "cell_type": "markdown",
   "metadata": {},
   "source": [
    "### Error checking"
   ]
  },
  {
   "cell_type": "code",
   "execution_count": 60,
   "metadata": {},
   "outputs": [
    {
     "name": "stdout",
     "output_type": "stream",
     "text": [
      "Num examples: 16790\n",
      "No errors found\n"
     ]
    }
   ],
   "source": [
    "from collections import defaultdict\n",
    "\n",
    "data_path = \"../data/processed/qa_openai_format.jsonl\"\n",
    "\n",
    "# Load the dataset\n",
    "with open(data_path, 'r', encoding='utf-8') as f:\n",
    "  dataset = [json.loads(line) for line in f]\n",
    "\n",
    "# Initial dataset stats\n",
    "print(\"Num examples:\", len(dataset))\n",
    "\n",
    "# Format error checks\n",
    "format_errors = defaultdict(int)\n",
    "\n",
    "for ex in dataset:\n",
    "    if not isinstance(ex, dict):\n",
    "        format_errors[\"data_type\"] += 1\n",
    "        continue\n",
    "        \n",
    "    messages = ex.get(\"messages\", None)\n",
    "    if not messages:\n",
    "        format_errors[\"missing_messages_list\"] += 1\n",
    "        continue\n",
    "        \n",
    "    for message in messages:\n",
    "        if \"role\" not in message or \"content\" not in message:\n",
    "            format_errors[\"message_missing_key\"] += 1\n",
    "        \n",
    "        if any(k not in (\"role\", \"content\", \"name\", \"function_call\") for k in message):\n",
    "            format_errors[\"message_unrecognized_key\"] += 1\n",
    "        \n",
    "        if message.get(\"role\", None) not in (\"system\", \"user\", \"assistant\", \"function\"):\n",
    "            format_errors[\"unrecognized_role\"] += 1\n",
    "            \n",
    "        content = message.get(\"content\", None)\n",
    "        function_call = message.get(\"function_call\", None)\n",
    "        \n",
    "        if (not content and not function_call) or not isinstance(content, str):\n",
    "            format_errors[\"missing_content\"] += 1\n",
    "    \n",
    "    if not any(message.get(\"role\", None) == \"assistant\" for message in messages):\n",
    "        format_errors[\"example_missing_assistant_message\"] += 1\n",
    "\n",
    "if format_errors:\n",
    "    print(\"Found errors:\")\n",
    "    for k, v in format_errors.items():\n",
    "        print(f\"{k}: {v}\")\n",
    "else:\n",
    "    print(\"No errors found\")"
   ]
  },
  {
   "cell_type": "markdown",
   "metadata": {},
   "source": [
    "# Fine Tuning"
   ]
  },
  {
   "cell_type": "code",
   "execution_count": 61,
   "metadata": {},
   "outputs": [],
   "source": [
    "import openai\n",
    "\n",
    "openai.api_key = os.getenv(\"OPENAI_API_KEY\")"
   ]
  },
  {
   "cell_type": "code",
   "execution_count": 64,
   "metadata": {},
   "outputs": [
    {
     "data": {
      "text/plain": [
       "FileObject(id='file-GMT9G3KXIhJFi1hFa8rptLrJ', bytes=8751154, created_at=1716032137, filename='qa_openai_format.jsonl', object='file', purpose='fine-tune', status='processed', status_details=None)"
      ]
     },
     "execution_count": 64,
     "metadata": {},
     "output_type": "execute_result"
    }
   ],
   "source": [
    "client = openai.OpenAI()\n",
    "client.files.create(\n",
    "    file=open(\"../data/processed/qa_openai_format.jsonl\", \"rb\"),\n",
    "    purpose=\"fine-tune\"\n",
    "    )\n",
    "        \n",
    "    "
   ]
  },
  {
   "cell_type": "code",
   "execution_count": 65,
   "metadata": {},
   "outputs": [
    {
     "data": {
      "text/plain": [
       "FineTuningJob(id='ftjob-DdyRAv3KGq4cYt562ViWz0kq', created_at=1716032315, error=Error(code=None, message=None, param=None), fine_tuned_model=None, finished_at=None, hyperparameters=Hyperparameters(n_epochs='auto', batch_size='auto', learning_rate_multiplier='auto'), model='gpt-3.5-turbo-0125', object='fine_tuning.job', organization_id='org-7GT5M5qJgy2qldxQgsKdfI3j', result_files=[], seed=1286267206, status='validating_files', trained_tokens=None, training_file='file-GMT9G3KXIhJFi1hFa8rptLrJ', validation_file=None, estimated_finish=None, integrations=[], user_provided_suffix=None)"
      ]
     },
     "execution_count": 65,
     "metadata": {},
     "output_type": "execute_result"
    }
   ],
   "source": [
    "client.fine_tuning.jobs.create(\n",
    "    model=\"gpt-3.5-turbo\",\n",
    "    training_file=\"file-GMT9G3KXIhJFi1hFa8rptLrJ\",\n",
    ")  "
   ]
  },
  {
   "cell_type": "code",
   "execution_count": 66,
   "metadata": {},
   "outputs": [
    {
     "data": {
      "text/plain": [
       "SyncCursorPage[FineTuningJob](data=[FineTuningJob(id='ftjob-DdyRAv3KGq4cYt562ViWz0kq', created_at=1716032315, error=Error(code=None, message=None, param=None), fine_tuned_model=None, finished_at=None, hyperparameters=Hyperparameters(n_epochs='auto', batch_size='auto', learning_rate_multiplier='auto'), model='gpt-3.5-turbo-0125', object='fine_tuning.job', organization_id='org-7GT5M5qJgy2qldxQgsKdfI3j', result_files=[], seed=1286267206, status='validating_files', trained_tokens=None, training_file='file-GMT9G3KXIhJFi1hFa8rptLrJ', validation_file=None, estimated_finish=None, integrations=[], user_provided_suffix=None)], object='list', has_more=False)"
      ]
     },
     "execution_count": 66,
     "metadata": {},
     "output_type": "execute_result"
    }
   ],
   "source": [
    "client.fine_tuning.jobs.list()  "
   ]
  }
 ],
 "metadata": {
  "kernelspec": {
   "display_name": "llm_dalle",
   "language": "python",
   "name": "python3"
  },
  "language_info": {
   "codemirror_mode": {
    "name": "ipython",
    "version": 3
   },
   "file_extension": ".py",
   "mimetype": "text/x-python",
   "name": "python",
   "nbconvert_exporter": "python",
   "pygments_lexer": "ipython3",
   "version": "3.11.4"
  }
 },
 "nbformat": 4,
 "nbformat_minor": 2
}
